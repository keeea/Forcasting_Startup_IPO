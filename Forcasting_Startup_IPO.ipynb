{
  "nbformat": 4,
  "nbformat_minor": 0,
  "metadata": {
    "colab": {
      "provenance": [],
      "collapsed_sections": [],
      "toc_visible": true
    },
    "kernelspec": {
      "name": "python3",
      "display_name": "Python 3"
    },
    "language_info": {
      "name": "python"
    }
  },
  "cells": [
    {
      "cell_type": "markdown",
      "source": [
        "## Context"
      ],
      "metadata": {
        "id": "2t6M2S6Yd24v"
      }
    },
    {
      "cell_type": "markdown",
      "source": [
        "**This is a fake / alternative proof-of-concept model with alternative non-credential data.**\n",
        "\n",
        "A startup or start-up is a company or project begun by an entrepreneur to seek, develop, and validate a scalable economic model. While entrepreneurship refers to all new businesses, including self-employment and businesses that never intend to become registered, startups refer to new businesses that intend to grow large beyond the solo founder. Startups face high uncertainty and have high rates of failure, but a minority of them do go on to be successful and influential. Some startups become unicorns: privately held startup companies valued at over US$1 billion. [Source of information: Wikipedia]\n",
        "\n",
        "Startups play a major role in economic growth. They bring new ideas, spur innovation, create employment thereby moving the economy. There has been an exponential growth in startups over the past few years. Predicting the success of a startup allows investors to find companies that have the potential for rapid growth, thereby allowing them to be one step ahead of the competition."
      ],
      "metadata": {
        "id": "sbbfpc1ydjx5"
      }
    },
    {
      "cell_type": "markdown",
      "source": [
        "## Objective"
      ],
      "metadata": {
        "id": "v2ofqPtUd6os"
      }
    },
    {
      "cell_type": "markdown",
      "source": [
        "The objective is to predict whether a startup which is currently operating turns into a success or a failure. The success of a company is defined as the event that gives the company's founders a large sum of money through the process of M&A (Merger and Acquisition) or an IPO (Initial Public Offering). A company would be considered as failed if it had to be shut down.\n",
        "\n",
        "Predicting the success of a startup allows investors to find companies that have the potential for rapid growth, thereby allowing them to be one step ahead of the competition."
      ],
      "metadata": {
        "id": "vOAEZGMVd-nJ"
      }
    },
    {
      "cell_type": "markdown",
      "source": [
        "## About the Data"
      ],
      "metadata": {
        "id": "9qMCSht2eAz6"
      }
    },
    {
      "cell_type": "markdown",
      "source": [
        "agefirstfunding_year – quantitative\n",
        "\n",
        "agelastfunding_year – quantitative\n",
        "\n",
        "relationships – quantitative\n",
        "\n",
        "funding_rounds – quantitative\n",
        "\n",
        "fundingtotalusd – quantitative\n",
        "\n",
        "milestones – quantitative\n",
        "\n",
        "agefirstmilestone_year – quantitative\n",
        "\n",
        "agelastmilestone_year – quantitative\n",
        "\n",
        "state – categorical\n",
        "\n",
        "industry_type – categorical\n",
        "\n",
        "has_VC – categorical\n",
        "\n",
        "has_angel – categorical\n",
        "\n",
        "has_roundA – categorical\n",
        "\n",
        "has_roundB – categorical\n",
        "\n",
        "has_roundC – categorical\n",
        "\n",
        "has_roundD – categorical\n",
        "\n",
        "avg_participants – quantitative\n",
        "\n",
        "is_top500 – categorical\n",
        "\n",
        "status(acquired/closed) – categorical (the target variable, if a startup is ‘acquired’ by some other organization, means the startup succeed) "
      ],
      "metadata": {
        "id": "l0EuibEceMJG"
      }
    },
    {
      "cell_type": "markdown",
      "source": [
        "## Set Up\n"
      ],
      "metadata": {
        "id": "QyZAYzoFekyI"
      }
    },
    {
      "cell_type": "code",
      "source": [
        "import numpy as np\n",
        "import pandas as pd\n",
        "import matplotlib.pyplot as plt\n",
        "import seaborn as sns\n",
        "sns.set()"
      ],
      "metadata": {
        "id": "kPgtOkbod2KM"
      },
      "execution_count": null,
      "outputs": []
    },
    {
      "cell_type": "markdown",
      "source": [
        "## Data Procecssing"
      ],
      "metadata": {
        "id": "zW9hziPnentV"
      }
    },
    {
      "cell_type": "code",
      "execution_count": null,
      "metadata": {
        "colab": {
          "base_uri": "https://localhost:8080/",
          "height": 421
        },
        "id": "AlqqCdG6c1Oa",
        "outputId": "dd1e3b96-4ac5-4ef5-e48b-8220137f1068"
      },
      "outputs": [
        {
          "output_type": "execute_result",
          "data": {
            "text/plain": [
              "   Unnamed: 0 state_code   latitude   longitude zip_code       id  \\\n",
              "0        1005         CA  42.358880  -71.056820    92101   c:6669   \n",
              "1         204         CA  37.238916 -121.973718    95032  c:16283   \n",
              "2        1001         CA  32.901049 -117.192656    92121  c:65620   \n",
              "3         738         CA  37.320309 -122.050040    95014  c:42668   \n",
              "4        1002         CA  37.779281 -122.419236    94105  c:65806   \n",
              "\n",
              "            city              Unnamed: 6               name  labels  ...  \\\n",
              "0      San Diego                     NaN        Bandsintown       1  ...   \n",
              "1      Los Gatos                     NaN          TriCipher       1  ...   \n",
              "2      San Diego      San Diego CA 92121              Plixi       1  ...   \n",
              "3      Cupertino      Cupertino CA 95014  Solidcore Systems       1  ...   \n",
              "4  San Francisco  San Francisco CA 94105     Inhale Digital       0  ...   \n",
              "\n",
              "  object_id has_VC has_angel has_roundA  has_roundB  has_roundC  has_roundD  \\\n",
              "0    c:6669      0         1          0           0           0           0   \n",
              "1   c:16283      1         0          0           1           1           1   \n",
              "2   c:65620      0         0          1           0           0           0   \n",
              "3   c:42668      0         0          0           1           1           1   \n",
              "4   c:65806      1         1          0           0           0           0   \n",
              "\n",
              "   avg_participants  is_top500    status  \n",
              "0            1.0000          0  acquired  \n",
              "1            4.7500          1  acquired  \n",
              "2            4.0000          1  acquired  \n",
              "3            3.3333          1  acquired  \n",
              "4            1.0000          1    closed  \n",
              "\n",
              "[5 rows x 49 columns]"
            ],
            "text/html": [
              "\n",
              "  <div id=\"df-3991bb66-d925-4b4f-8105-74e8968a08a8\">\n",
              "    <div class=\"colab-df-container\">\n",
              "      <div>\n",
              "<style scoped>\n",
              "    .dataframe tbody tr th:only-of-type {\n",
              "        vertical-align: middle;\n",
              "    }\n",
              "\n",
              "    .dataframe tbody tr th {\n",
              "        vertical-align: top;\n",
              "    }\n",
              "\n",
              "    .dataframe thead th {\n",
              "        text-align: right;\n",
              "    }\n",
              "</style>\n",
              "<table border=\"1\" class=\"dataframe\">\n",
              "  <thead>\n",
              "    <tr style=\"text-align: right;\">\n",
              "      <th></th>\n",
              "      <th>Unnamed: 0</th>\n",
              "      <th>state_code</th>\n",
              "      <th>latitude</th>\n",
              "      <th>longitude</th>\n",
              "      <th>zip_code</th>\n",
              "      <th>id</th>\n",
              "      <th>city</th>\n",
              "      <th>Unnamed: 6</th>\n",
              "      <th>name</th>\n",
              "      <th>labels</th>\n",
              "      <th>...</th>\n",
              "      <th>object_id</th>\n",
              "      <th>has_VC</th>\n",
              "      <th>has_angel</th>\n",
              "      <th>has_roundA</th>\n",
              "      <th>has_roundB</th>\n",
              "      <th>has_roundC</th>\n",
              "      <th>has_roundD</th>\n",
              "      <th>avg_participants</th>\n",
              "      <th>is_top500</th>\n",
              "      <th>status</th>\n",
              "    </tr>\n",
              "  </thead>\n",
              "  <tbody>\n",
              "    <tr>\n",
              "      <th>0</th>\n",
              "      <td>1005</td>\n",
              "      <td>CA</td>\n",
              "      <td>42.358880</td>\n",
              "      <td>-71.056820</td>\n",
              "      <td>92101</td>\n",
              "      <td>c:6669</td>\n",
              "      <td>San Diego</td>\n",
              "      <td>NaN</td>\n",
              "      <td>Bandsintown</td>\n",
              "      <td>1</td>\n",
              "      <td>...</td>\n",
              "      <td>c:6669</td>\n",
              "      <td>0</td>\n",
              "      <td>1</td>\n",
              "      <td>0</td>\n",
              "      <td>0</td>\n",
              "      <td>0</td>\n",
              "      <td>0</td>\n",
              "      <td>1.0000</td>\n",
              "      <td>0</td>\n",
              "      <td>acquired</td>\n",
              "    </tr>\n",
              "    <tr>\n",
              "      <th>1</th>\n",
              "      <td>204</td>\n",
              "      <td>CA</td>\n",
              "      <td>37.238916</td>\n",
              "      <td>-121.973718</td>\n",
              "      <td>95032</td>\n",
              "      <td>c:16283</td>\n",
              "      <td>Los Gatos</td>\n",
              "      <td>NaN</td>\n",
              "      <td>TriCipher</td>\n",
              "      <td>1</td>\n",
              "      <td>...</td>\n",
              "      <td>c:16283</td>\n",
              "      <td>1</td>\n",
              "      <td>0</td>\n",
              "      <td>0</td>\n",
              "      <td>1</td>\n",
              "      <td>1</td>\n",
              "      <td>1</td>\n",
              "      <td>4.7500</td>\n",
              "      <td>1</td>\n",
              "      <td>acquired</td>\n",
              "    </tr>\n",
              "    <tr>\n",
              "      <th>2</th>\n",
              "      <td>1001</td>\n",
              "      <td>CA</td>\n",
              "      <td>32.901049</td>\n",
              "      <td>-117.192656</td>\n",
              "      <td>92121</td>\n",
              "      <td>c:65620</td>\n",
              "      <td>San Diego</td>\n",
              "      <td>San Diego CA 92121</td>\n",
              "      <td>Plixi</td>\n",
              "      <td>1</td>\n",
              "      <td>...</td>\n",
              "      <td>c:65620</td>\n",
              "      <td>0</td>\n",
              "      <td>0</td>\n",
              "      <td>1</td>\n",
              "      <td>0</td>\n",
              "      <td>0</td>\n",
              "      <td>0</td>\n",
              "      <td>4.0000</td>\n",
              "      <td>1</td>\n",
              "      <td>acquired</td>\n",
              "    </tr>\n",
              "    <tr>\n",
              "      <th>3</th>\n",
              "      <td>738</td>\n",
              "      <td>CA</td>\n",
              "      <td>37.320309</td>\n",
              "      <td>-122.050040</td>\n",
              "      <td>95014</td>\n",
              "      <td>c:42668</td>\n",
              "      <td>Cupertino</td>\n",
              "      <td>Cupertino CA 95014</td>\n",
              "      <td>Solidcore Systems</td>\n",
              "      <td>1</td>\n",
              "      <td>...</td>\n",
              "      <td>c:42668</td>\n",
              "      <td>0</td>\n",
              "      <td>0</td>\n",
              "      <td>0</td>\n",
              "      <td>1</td>\n",
              "      <td>1</td>\n",
              "      <td>1</td>\n",
              "      <td>3.3333</td>\n",
              "      <td>1</td>\n",
              "      <td>acquired</td>\n",
              "    </tr>\n",
              "    <tr>\n",
              "      <th>4</th>\n",
              "      <td>1002</td>\n",
              "      <td>CA</td>\n",
              "      <td>37.779281</td>\n",
              "      <td>-122.419236</td>\n",
              "      <td>94105</td>\n",
              "      <td>c:65806</td>\n",
              "      <td>San Francisco</td>\n",
              "      <td>San Francisco CA 94105</td>\n",
              "      <td>Inhale Digital</td>\n",
              "      <td>0</td>\n",
              "      <td>...</td>\n",
              "      <td>c:65806</td>\n",
              "      <td>1</td>\n",
              "      <td>1</td>\n",
              "      <td>0</td>\n",
              "      <td>0</td>\n",
              "      <td>0</td>\n",
              "      <td>0</td>\n",
              "      <td>1.0000</td>\n",
              "      <td>1</td>\n",
              "      <td>closed</td>\n",
              "    </tr>\n",
              "  </tbody>\n",
              "</table>\n",
              "<p>5 rows × 49 columns</p>\n",
              "</div>\n",
              "      <button class=\"colab-df-convert\" onclick=\"convertToInteractive('df-3991bb66-d925-4b4f-8105-74e8968a08a8')\"\n",
              "              title=\"Convert this dataframe to an interactive table.\"\n",
              "              style=\"display:none;\">\n",
              "        \n",
              "  <svg xmlns=\"http://www.w3.org/2000/svg\" height=\"24px\"viewBox=\"0 0 24 24\"\n",
              "       width=\"24px\">\n",
              "    <path d=\"M0 0h24v24H0V0z\" fill=\"none\"/>\n",
              "    <path d=\"M18.56 5.44l.94 2.06.94-2.06 2.06-.94-2.06-.94-.94-2.06-.94 2.06-2.06.94zm-11 1L8.5 8.5l.94-2.06 2.06-.94-2.06-.94L8.5 2.5l-.94 2.06-2.06.94zm10 10l.94 2.06.94-2.06 2.06-.94-2.06-.94-.94-2.06-.94 2.06-2.06.94z\"/><path d=\"M17.41 7.96l-1.37-1.37c-.4-.4-.92-.59-1.43-.59-.52 0-1.04.2-1.43.59L10.3 9.45l-7.72 7.72c-.78.78-.78 2.05 0 2.83L4 21.41c.39.39.9.59 1.41.59.51 0 1.02-.2 1.41-.59l7.78-7.78 2.81-2.81c.8-.78.8-2.07 0-2.86zM5.41 20L4 18.59l7.72-7.72 1.47 1.35L5.41 20z\"/>\n",
              "  </svg>\n",
              "      </button>\n",
              "      \n",
              "  <style>\n",
              "    .colab-df-container {\n",
              "      display:flex;\n",
              "      flex-wrap:wrap;\n",
              "      gap: 12px;\n",
              "    }\n",
              "\n",
              "    .colab-df-convert {\n",
              "      background-color: #E8F0FE;\n",
              "      border: none;\n",
              "      border-radius: 50%;\n",
              "      cursor: pointer;\n",
              "      display: none;\n",
              "      fill: #1967D2;\n",
              "      height: 32px;\n",
              "      padding: 0 0 0 0;\n",
              "      width: 32px;\n",
              "    }\n",
              "\n",
              "    .colab-df-convert:hover {\n",
              "      background-color: #E2EBFA;\n",
              "      box-shadow: 0px 1px 2px rgba(60, 64, 67, 0.3), 0px 1px 3px 1px rgba(60, 64, 67, 0.15);\n",
              "      fill: #174EA6;\n",
              "    }\n",
              "\n",
              "    [theme=dark] .colab-df-convert {\n",
              "      background-color: #3B4455;\n",
              "      fill: #D2E3FC;\n",
              "    }\n",
              "\n",
              "    [theme=dark] .colab-df-convert:hover {\n",
              "      background-color: #434B5C;\n",
              "      box-shadow: 0px 1px 3px 1px rgba(0, 0, 0, 0.15);\n",
              "      filter: drop-shadow(0px 1px 2px rgba(0, 0, 0, 0.3));\n",
              "      fill: #FFFFFF;\n",
              "    }\n",
              "  </style>\n",
              "\n",
              "      <script>\n",
              "        const buttonEl =\n",
              "          document.querySelector('#df-3991bb66-d925-4b4f-8105-74e8968a08a8 button.colab-df-convert');\n",
              "        buttonEl.style.display =\n",
              "          google.colab.kernel.accessAllowed ? 'block' : 'none';\n",
              "\n",
              "        async function convertToInteractive(key) {\n",
              "          const element = document.querySelector('#df-3991bb66-d925-4b4f-8105-74e8968a08a8');\n",
              "          const dataTable =\n",
              "            await google.colab.kernel.invokeFunction('convertToInteractive',\n",
              "                                                     [key], {});\n",
              "          if (!dataTable) return;\n",
              "\n",
              "          const docLinkHtml = 'Like what you see? Visit the ' +\n",
              "            '<a target=\"_blank\" href=https://colab.research.google.com/notebooks/data_table.ipynb>data table notebook</a>'\n",
              "            + ' to learn more about interactive tables.';\n",
              "          element.innerHTML = '';\n",
              "          dataTable['output_type'] = 'display_data';\n",
              "          await google.colab.output.renderOutput(dataTable, element);\n",
              "          const docLink = document.createElement('div');\n",
              "          docLink.innerHTML = docLinkHtml;\n",
              "          element.appendChild(docLink);\n",
              "        }\n",
              "      </script>\n",
              "    </div>\n",
              "  </div>\n",
              "  "
            ]
          },
          "metadata": {},
          "execution_count": 322
        }
      ],
      "source": [
        "Data = pd.read_csv('startup_data.csv')\n",
        "Data.head(5)"
      ]
    },
    {
      "cell_type": "code",
      "source": [
        "Data.dtypes"
      ],
      "metadata": {
        "id": "nhtoppdsga4t",
        "colab": {
          "base_uri": "https://localhost:8080/"
        },
        "outputId": "41352fe9-50e2-4547-a66b-427ee750b3d2"
      },
      "execution_count": null,
      "outputs": [
        {
          "output_type": "execute_result",
          "data": {
            "text/plain": [
              "Unnamed: 0                    int64\n",
              "state_code                   object\n",
              "latitude                    float64\n",
              "longitude                   float64\n",
              "zip_code                     object\n",
              "id                           object\n",
              "city                         object\n",
              "Unnamed: 6                   object\n",
              "name                         object\n",
              "labels                        int64\n",
              "founded_at                   object\n",
              "closed_at                    object\n",
              "first_funding_at             object\n",
              "last_funding_at              object\n",
              "age_first_funding_year      float64\n",
              "age_last_funding_year       float64\n",
              "age_first_milestone_year    float64\n",
              "age_last_milestone_year     float64\n",
              "relationships                 int64\n",
              "funding_rounds                int64\n",
              "funding_total_usd             int64\n",
              "milestones                    int64\n",
              "state_code.1                 object\n",
              "is_CA                         int64\n",
              "is_NY                         int64\n",
              "is_MA                         int64\n",
              "is_TX                         int64\n",
              "is_otherstate                 int64\n",
              "category_code                object\n",
              "is_software                   int64\n",
              "is_web                        int64\n",
              "is_mobile                     int64\n",
              "is_enterprise                 int64\n",
              "is_advertising                int64\n",
              "is_gamesvideo                 int64\n",
              "is_ecommerce                  int64\n",
              "is_biotech                    int64\n",
              "is_consulting                 int64\n",
              "is_othercategory              int64\n",
              "object_id                    object\n",
              "has_VC                        int64\n",
              "has_angel                     int64\n",
              "has_roundA                    int64\n",
              "has_roundB                    int64\n",
              "has_roundC                    int64\n",
              "has_roundD                    int64\n",
              "avg_participants            float64\n",
              "is_top500                     int64\n",
              "status                       object\n",
              "dtype: object"
            ]
          },
          "metadata": {},
          "execution_count": 323
        }
      ]
    },
    {
      "cell_type": "code",
      "source": [
        "Data.describe()"
      ],
      "metadata": {
        "id": "YiK3QynTfevw",
        "colab": {
          "base_uri": "https://localhost:8080/",
          "height": 411
        },
        "outputId": "f3432e5a-5a2a-4577-f36b-fc7e4639aa14"
      },
      "execution_count": null,
      "outputs": [
        {
          "output_type": "execute_result",
          "data": {
            "text/plain": [
              "        Unnamed: 0    latitude   longitude      labels  \\\n",
              "count   923.000000  923.000000  923.000000  923.000000   \n",
              "mean    572.297941   38.517442 -103.539212    0.646804   \n",
              "std     333.585431    3.741497   22.394167    0.478222   \n",
              "min       1.000000   25.752358 -122.756956    0.000000   \n",
              "25%     283.500000   37.388869 -122.198732    0.000000   \n",
              "50%     577.000000   37.779281 -118.374037    1.000000   \n",
              "75%     866.500000   40.730646  -77.214731    1.000000   \n",
              "max    1153.000000   59.335232   18.057121    1.000000   \n",
              "\n",
              "       age_first_funding_year  age_last_funding_year  \\\n",
              "count              923.000000             923.000000   \n",
              "mean                 2.235630               3.931456   \n",
              "std                  2.510449               2.967910   \n",
              "min                 -9.046600              -9.046600   \n",
              "25%                  0.576700               1.669850   \n",
              "50%                  1.446600               3.528800   \n",
              "75%                  3.575350               5.560250   \n",
              "max                 21.895900              21.895900   \n",
              "\n",
              "       age_first_milestone_year  age_last_milestone_year  relationships  \\\n",
              "count                771.000000               771.000000     923.000000   \n",
              "mean                   3.055353                 4.754423       7.710726   \n",
              "std                    2.977057                 3.212107       7.265776   \n",
              "min                  -14.169900                -7.005500       0.000000   \n",
              "25%                    1.000000                 2.411000       3.000000   \n",
              "50%                    2.520500                 4.476700       5.000000   \n",
              "75%                    4.686300                 6.753400      10.000000   \n",
              "max                   24.684900                24.684900      63.000000   \n",
              "\n",
              "       funding_rounds  ...  is_consulting  is_othercategory      has_VC  \\\n",
              "count      923.000000  ...     923.000000        923.000000  923.000000   \n",
              "mean         2.310943  ...       0.003250          0.322860    0.326111   \n",
              "std          1.390922  ...       0.056949          0.467823    0.469042   \n",
              "min          1.000000  ...       0.000000          0.000000    0.000000   \n",
              "25%          1.000000  ...       0.000000          0.000000    0.000000   \n",
              "50%          2.000000  ...       0.000000          0.000000    0.000000   \n",
              "75%          3.000000  ...       0.000000          1.000000    1.000000   \n",
              "max         10.000000  ...       1.000000          1.000000    1.000000   \n",
              "\n",
              "        has_angel  has_roundA  has_roundB  has_roundC  has_roundD  \\\n",
              "count  923.000000  923.000000  923.000000  923.000000  923.000000   \n",
              "mean     0.254605    0.508126    0.392199    0.232936    0.099675   \n",
              "std      0.435875    0.500205    0.488505    0.422931    0.299729   \n",
              "min      0.000000    0.000000    0.000000    0.000000    0.000000   \n",
              "25%      0.000000    0.000000    0.000000    0.000000    0.000000   \n",
              "50%      0.000000    1.000000    0.000000    0.000000    0.000000   \n",
              "75%      1.000000    1.000000    1.000000    0.000000    0.000000   \n",
              "max      1.000000    1.000000    1.000000    1.000000    1.000000   \n",
              "\n",
              "       avg_participants   is_top500  \n",
              "count        923.000000  923.000000  \n",
              "mean           2.838586    0.809317  \n",
              "std            1.874601    0.393052  \n",
              "min            1.000000    0.000000  \n",
              "25%            1.500000    1.000000  \n",
              "50%            2.500000    1.000000  \n",
              "75%            3.800000    1.000000  \n",
              "max           16.000000    1.000000  \n",
              "\n",
              "[8 rows x 35 columns]"
            ],
            "text/html": [
              "\n",
              "  <div id=\"df-0ce9c55f-5e62-4520-8d8b-3b58426cffec\">\n",
              "    <div class=\"colab-df-container\">\n",
              "      <div>\n",
              "<style scoped>\n",
              "    .dataframe tbody tr th:only-of-type {\n",
              "        vertical-align: middle;\n",
              "    }\n",
              "\n",
              "    .dataframe tbody tr th {\n",
              "        vertical-align: top;\n",
              "    }\n",
              "\n",
              "    .dataframe thead th {\n",
              "        text-align: right;\n",
              "    }\n",
              "</style>\n",
              "<table border=\"1\" class=\"dataframe\">\n",
              "  <thead>\n",
              "    <tr style=\"text-align: right;\">\n",
              "      <th></th>\n",
              "      <th>Unnamed: 0</th>\n",
              "      <th>latitude</th>\n",
              "      <th>longitude</th>\n",
              "      <th>labels</th>\n",
              "      <th>age_first_funding_year</th>\n",
              "      <th>age_last_funding_year</th>\n",
              "      <th>age_first_milestone_year</th>\n",
              "      <th>age_last_milestone_year</th>\n",
              "      <th>relationships</th>\n",
              "      <th>funding_rounds</th>\n",
              "      <th>...</th>\n",
              "      <th>is_consulting</th>\n",
              "      <th>is_othercategory</th>\n",
              "      <th>has_VC</th>\n",
              "      <th>has_angel</th>\n",
              "      <th>has_roundA</th>\n",
              "      <th>has_roundB</th>\n",
              "      <th>has_roundC</th>\n",
              "      <th>has_roundD</th>\n",
              "      <th>avg_participants</th>\n",
              "      <th>is_top500</th>\n",
              "    </tr>\n",
              "  </thead>\n",
              "  <tbody>\n",
              "    <tr>\n",
              "      <th>count</th>\n",
              "      <td>923.000000</td>\n",
              "      <td>923.000000</td>\n",
              "      <td>923.000000</td>\n",
              "      <td>923.000000</td>\n",
              "      <td>923.000000</td>\n",
              "      <td>923.000000</td>\n",
              "      <td>771.000000</td>\n",
              "      <td>771.000000</td>\n",
              "      <td>923.000000</td>\n",
              "      <td>923.000000</td>\n",
              "      <td>...</td>\n",
              "      <td>923.000000</td>\n",
              "      <td>923.000000</td>\n",
              "      <td>923.000000</td>\n",
              "      <td>923.000000</td>\n",
              "      <td>923.000000</td>\n",
              "      <td>923.000000</td>\n",
              "      <td>923.000000</td>\n",
              "      <td>923.000000</td>\n",
              "      <td>923.000000</td>\n",
              "      <td>923.000000</td>\n",
              "    </tr>\n",
              "    <tr>\n",
              "      <th>mean</th>\n",
              "      <td>572.297941</td>\n",
              "      <td>38.517442</td>\n",
              "      <td>-103.539212</td>\n",
              "      <td>0.646804</td>\n",
              "      <td>2.235630</td>\n",
              "      <td>3.931456</td>\n",
              "      <td>3.055353</td>\n",
              "      <td>4.754423</td>\n",
              "      <td>7.710726</td>\n",
              "      <td>2.310943</td>\n",
              "      <td>...</td>\n",
              "      <td>0.003250</td>\n",
              "      <td>0.322860</td>\n",
              "      <td>0.326111</td>\n",
              "      <td>0.254605</td>\n",
              "      <td>0.508126</td>\n",
              "      <td>0.392199</td>\n",
              "      <td>0.232936</td>\n",
              "      <td>0.099675</td>\n",
              "      <td>2.838586</td>\n",
              "      <td>0.809317</td>\n",
              "    </tr>\n",
              "    <tr>\n",
              "      <th>std</th>\n",
              "      <td>333.585431</td>\n",
              "      <td>3.741497</td>\n",
              "      <td>22.394167</td>\n",
              "      <td>0.478222</td>\n",
              "      <td>2.510449</td>\n",
              "      <td>2.967910</td>\n",
              "      <td>2.977057</td>\n",
              "      <td>3.212107</td>\n",
              "      <td>7.265776</td>\n",
              "      <td>1.390922</td>\n",
              "      <td>...</td>\n",
              "      <td>0.056949</td>\n",
              "      <td>0.467823</td>\n",
              "      <td>0.469042</td>\n",
              "      <td>0.435875</td>\n",
              "      <td>0.500205</td>\n",
              "      <td>0.488505</td>\n",
              "      <td>0.422931</td>\n",
              "      <td>0.299729</td>\n",
              "      <td>1.874601</td>\n",
              "      <td>0.393052</td>\n",
              "    </tr>\n",
              "    <tr>\n",
              "      <th>min</th>\n",
              "      <td>1.000000</td>\n",
              "      <td>25.752358</td>\n",
              "      <td>-122.756956</td>\n",
              "      <td>0.000000</td>\n",
              "      <td>-9.046600</td>\n",
              "      <td>-9.046600</td>\n",
              "      <td>-14.169900</td>\n",
              "      <td>-7.005500</td>\n",
              "      <td>0.000000</td>\n",
              "      <td>1.000000</td>\n",
              "      <td>...</td>\n",
              "      <td>0.000000</td>\n",
              "      <td>0.000000</td>\n",
              "      <td>0.000000</td>\n",
              "      <td>0.000000</td>\n",
              "      <td>0.000000</td>\n",
              "      <td>0.000000</td>\n",
              "      <td>0.000000</td>\n",
              "      <td>0.000000</td>\n",
              "      <td>1.000000</td>\n",
              "      <td>0.000000</td>\n",
              "    </tr>\n",
              "    <tr>\n",
              "      <th>25%</th>\n",
              "      <td>283.500000</td>\n",
              "      <td>37.388869</td>\n",
              "      <td>-122.198732</td>\n",
              "      <td>0.000000</td>\n",
              "      <td>0.576700</td>\n",
              "      <td>1.669850</td>\n",
              "      <td>1.000000</td>\n",
              "      <td>2.411000</td>\n",
              "      <td>3.000000</td>\n",
              "      <td>1.000000</td>\n",
              "      <td>...</td>\n",
              "      <td>0.000000</td>\n",
              "      <td>0.000000</td>\n",
              "      <td>0.000000</td>\n",
              "      <td>0.000000</td>\n",
              "      <td>0.000000</td>\n",
              "      <td>0.000000</td>\n",
              "      <td>0.000000</td>\n",
              "      <td>0.000000</td>\n",
              "      <td>1.500000</td>\n",
              "      <td>1.000000</td>\n",
              "    </tr>\n",
              "    <tr>\n",
              "      <th>50%</th>\n",
              "      <td>577.000000</td>\n",
              "      <td>37.779281</td>\n",
              "      <td>-118.374037</td>\n",
              "      <td>1.000000</td>\n",
              "      <td>1.446600</td>\n",
              "      <td>3.528800</td>\n",
              "      <td>2.520500</td>\n",
              "      <td>4.476700</td>\n",
              "      <td>5.000000</td>\n",
              "      <td>2.000000</td>\n",
              "      <td>...</td>\n",
              "      <td>0.000000</td>\n",
              "      <td>0.000000</td>\n",
              "      <td>0.000000</td>\n",
              "      <td>0.000000</td>\n",
              "      <td>1.000000</td>\n",
              "      <td>0.000000</td>\n",
              "      <td>0.000000</td>\n",
              "      <td>0.000000</td>\n",
              "      <td>2.500000</td>\n",
              "      <td>1.000000</td>\n",
              "    </tr>\n",
              "    <tr>\n",
              "      <th>75%</th>\n",
              "      <td>866.500000</td>\n",
              "      <td>40.730646</td>\n",
              "      <td>-77.214731</td>\n",
              "      <td>1.000000</td>\n",
              "      <td>3.575350</td>\n",
              "      <td>5.560250</td>\n",
              "      <td>4.686300</td>\n",
              "      <td>6.753400</td>\n",
              "      <td>10.000000</td>\n",
              "      <td>3.000000</td>\n",
              "      <td>...</td>\n",
              "      <td>0.000000</td>\n",
              "      <td>1.000000</td>\n",
              "      <td>1.000000</td>\n",
              "      <td>1.000000</td>\n",
              "      <td>1.000000</td>\n",
              "      <td>1.000000</td>\n",
              "      <td>0.000000</td>\n",
              "      <td>0.000000</td>\n",
              "      <td>3.800000</td>\n",
              "      <td>1.000000</td>\n",
              "    </tr>\n",
              "    <tr>\n",
              "      <th>max</th>\n",
              "      <td>1153.000000</td>\n",
              "      <td>59.335232</td>\n",
              "      <td>18.057121</td>\n",
              "      <td>1.000000</td>\n",
              "      <td>21.895900</td>\n",
              "      <td>21.895900</td>\n",
              "      <td>24.684900</td>\n",
              "      <td>24.684900</td>\n",
              "      <td>63.000000</td>\n",
              "      <td>10.000000</td>\n",
              "      <td>...</td>\n",
              "      <td>1.000000</td>\n",
              "      <td>1.000000</td>\n",
              "      <td>1.000000</td>\n",
              "      <td>1.000000</td>\n",
              "      <td>1.000000</td>\n",
              "      <td>1.000000</td>\n",
              "      <td>1.000000</td>\n",
              "      <td>1.000000</td>\n",
              "      <td>16.000000</td>\n",
              "      <td>1.000000</td>\n",
              "    </tr>\n",
              "  </tbody>\n",
              "</table>\n",
              "<p>8 rows × 35 columns</p>\n",
              "</div>\n",
              "      <button class=\"colab-df-convert\" onclick=\"convertToInteractive('df-0ce9c55f-5e62-4520-8d8b-3b58426cffec')\"\n",
              "              title=\"Convert this dataframe to an interactive table.\"\n",
              "              style=\"display:none;\">\n",
              "        \n",
              "  <svg xmlns=\"http://www.w3.org/2000/svg\" height=\"24px\"viewBox=\"0 0 24 24\"\n",
              "       width=\"24px\">\n",
              "    <path d=\"M0 0h24v24H0V0z\" fill=\"none\"/>\n",
              "    <path d=\"M18.56 5.44l.94 2.06.94-2.06 2.06-.94-2.06-.94-.94-2.06-.94 2.06-2.06.94zm-11 1L8.5 8.5l.94-2.06 2.06-.94-2.06-.94L8.5 2.5l-.94 2.06-2.06.94zm10 10l.94 2.06.94-2.06 2.06-.94-2.06-.94-.94-2.06-.94 2.06-2.06.94z\"/><path d=\"M17.41 7.96l-1.37-1.37c-.4-.4-.92-.59-1.43-.59-.52 0-1.04.2-1.43.59L10.3 9.45l-7.72 7.72c-.78.78-.78 2.05 0 2.83L4 21.41c.39.39.9.59 1.41.59.51 0 1.02-.2 1.41-.59l7.78-7.78 2.81-2.81c.8-.78.8-2.07 0-2.86zM5.41 20L4 18.59l7.72-7.72 1.47 1.35L5.41 20z\"/>\n",
              "  </svg>\n",
              "      </button>\n",
              "      \n",
              "  <style>\n",
              "    .colab-df-container {\n",
              "      display:flex;\n",
              "      flex-wrap:wrap;\n",
              "      gap: 12px;\n",
              "    }\n",
              "\n",
              "    .colab-df-convert {\n",
              "      background-color: #E8F0FE;\n",
              "      border: none;\n",
              "      border-radius: 50%;\n",
              "      cursor: pointer;\n",
              "      display: none;\n",
              "      fill: #1967D2;\n",
              "      height: 32px;\n",
              "      padding: 0 0 0 0;\n",
              "      width: 32px;\n",
              "    }\n",
              "\n",
              "    .colab-df-convert:hover {\n",
              "      background-color: #E2EBFA;\n",
              "      box-shadow: 0px 1px 2px rgba(60, 64, 67, 0.3), 0px 1px 3px 1px rgba(60, 64, 67, 0.15);\n",
              "      fill: #174EA6;\n",
              "    }\n",
              "\n",
              "    [theme=dark] .colab-df-convert {\n",
              "      background-color: #3B4455;\n",
              "      fill: #D2E3FC;\n",
              "    }\n",
              "\n",
              "    [theme=dark] .colab-df-convert:hover {\n",
              "      background-color: #434B5C;\n",
              "      box-shadow: 0px 1px 3px 1px rgba(0, 0, 0, 0.15);\n",
              "      filter: drop-shadow(0px 1px 2px rgba(0, 0, 0, 0.3));\n",
              "      fill: #FFFFFF;\n",
              "    }\n",
              "  </style>\n",
              "\n",
              "      <script>\n",
              "        const buttonEl =\n",
              "          document.querySelector('#df-0ce9c55f-5e62-4520-8d8b-3b58426cffec button.colab-df-convert');\n",
              "        buttonEl.style.display =\n",
              "          google.colab.kernel.accessAllowed ? 'block' : 'none';\n",
              "\n",
              "        async function convertToInteractive(key) {\n",
              "          const element = document.querySelector('#df-0ce9c55f-5e62-4520-8d8b-3b58426cffec');\n",
              "          const dataTable =\n",
              "            await google.colab.kernel.invokeFunction('convertToInteractive',\n",
              "                                                     [key], {});\n",
              "          if (!dataTable) return;\n",
              "\n",
              "          const docLinkHtml = 'Like what you see? Visit the ' +\n",
              "            '<a target=\"_blank\" href=https://colab.research.google.com/notebooks/data_table.ipynb>data table notebook</a>'\n",
              "            + ' to learn more about interactive tables.';\n",
              "          element.innerHTML = '';\n",
              "          dataTable['output_type'] = 'display_data';\n",
              "          await google.colab.output.renderOutput(dataTable, element);\n",
              "          const docLink = document.createElement('div');\n",
              "          docLink.innerHTML = docLinkHtml;\n",
              "          element.appendChild(docLink);\n",
              "        }\n",
              "      </script>\n",
              "    </div>\n",
              "  </div>\n",
              "  "
            ]
          },
          "metadata": {},
          "execution_count": 324
        }
      ]
    },
    {
      "cell_type": "markdown",
      "source": [
        "Select columns to use."
      ],
      "metadata": {
        "id": "9snxWNHtmF2t"
      }
    },
    {
      "cell_type": "code",
      "source": [
        "excluded_col = ['Unnamed: 0', 'zip_code', 'id', 'Unnamed: 6', 'state_code.1', 'founded_at', 'first_funding_at', 'last_funding_at', 'object_id', 'name', 'city']\n",
        "\n",
        "selected_data = Data.drop(excluded_col, axis = 1)"
      ],
      "metadata": {
        "id": "GYibmCizmM4F"
      },
      "execution_count": null,
      "outputs": []
    },
    {
      "cell_type": "markdown",
      "source": [
        "### Null Treatment\n"
      ],
      "metadata": {
        "id": "OD2nnQSMkErg"
      }
    },
    {
      "cell_type": "markdown",
      "source": [
        "#### Tier 1 - 50%"
      ],
      "metadata": {
        "id": "ILJ6F6nF1y7e"
      }
    },
    {
      "cell_type": "markdown",
      "source": [
        "Tier 1 - for featues with more than 50% missing values, just drop them."
      ],
      "metadata": {
        "id": "4l9j5xfjnbl8"
      }
    },
    {
      "cell_type": "code",
      "source": [
        "after_null50 = selected_data.dropna(thresh = selected_data.shape[0]*0.5, axis = 1)\n",
        "\n",
        "print('Number of dropped columns in tire 1: ', selected_data.shape[1] - after_null50.shape[1])"
      ],
      "metadata": {
        "id": "h_vpZKALnYWx",
        "colab": {
          "base_uri": "https://localhost:8080/"
        },
        "outputId": "70fd6965-15f2-4727-83de-1ed817abf3d9"
      },
      "execution_count": null,
      "outputs": [
        {
          "output_type": "stream",
          "name": "stdout",
          "text": [
            "Number of dropped columns in tire 1:  1\n"
          ]
        }
      ]
    },
    {
      "cell_type": "markdown",
      "source": [
        "#### Tier 2 - 30%"
      ],
      "metadata": {
        "id": "Egqg8byd13PN"
      }
    },
    {
      "cell_type": "markdown",
      "source": [
        "Tire 2 - for features with 30% - 50% missing values, impute with means / medians.\n",
        "\n",
        "Impute means for features with symmetric distributions, impute medians for ones with skewed distributions."
      ],
      "metadata": {
        "id": "mYUW_hA8qImI"
      }
    },
    {
      "cell_type": "code",
      "source": [
        "columns_with_na = after_null50.columns[after_null50.isna().any()].tolist()\n",
        "\n",
        "1 - after_null50[columns_with_na].count()/after_null50.shape[0]"
      ],
      "metadata": {
        "id": "Wtyud-XtpbkZ",
        "colab": {
          "base_uri": "https://localhost:8080/"
        },
        "outputId": "36c40c08-6ad8-457e-f6b8-d8db99a5f99e"
      },
      "execution_count": null,
      "outputs": [
        {
          "output_type": "execute_result",
          "data": {
            "text/plain": [
              "age_first_milestone_year    0.16468\n",
              "age_last_milestone_year     0.16468\n",
              "dtype: float64"
            ]
          },
          "metadata": {},
          "execution_count": 327
        }
      ]
    },
    {
      "cell_type": "code",
      "source": [
        "# distribution plots\n",
        "sns.displot(data = after_null50, \n",
        "            x = columns_with_na[0], \n",
        "            kde = True, \n",
        "            hue = \"status\")"
      ],
      "metadata": {
        "id": "xeQWGTr4rSio",
        "colab": {
          "base_uri": "https://localhost:8080/",
          "height": 383
        },
        "outputId": "55422666-fed0-428a-cb60-b4190a298d8f"
      },
      "execution_count": null,
      "outputs": [
        {
          "output_type": "execute_result",
          "data": {
            "text/plain": [
              "<seaborn.axisgrid.FacetGrid at 0x7f63e5c34090>"
            ]
          },
          "metadata": {},
          "execution_count": 328
        },
        {
          "output_type": "display_data",
          "data": {
            "text/plain": [
              "<Figure size 447.725x360 with 1 Axes>"
            ],
            "image/png": "[encoded data removed]"
          },
          "metadata": {}
        }
      ]
    },
    {
      "cell_type": "code",
      "source": [
        "# distribution plots\n",
        "sns.displot(data = after_null50, \n",
        "            x = columns_with_na[1], \n",
        "            kde = True, \n",
        "            hue = \"status\")"
      ],
      "metadata": {
        "id": "KeNnnZElxzD1",
        "colab": {
          "base_uri": "https://localhost:8080/",
          "height": 383
        },
        "outputId": "bd7d62be-1c12-422c-b77e-1ad4b5c05f99"
      },
      "execution_count": null,
      "outputs": [
        {
          "output_type": "execute_result",
          "data": {
            "text/plain": [
              "<seaborn.axisgrid.FacetGrid at 0x7f63e4d9a910>"
            ]
          },
          "metadata": {},
          "execution_count": 329
        },
        {
          "output_type": "display_data",
          "data": {
            "text/plain": [
              "<Figure size 447.725x360 with 1 Axes>"
            ],
            "image/png": "[encoded data removed]"
          },
          "metadata": {}
        }
      ]
    },
    {
      "cell_type": "markdown",
      "source": [
        "Both features are skewed for closed cases, so impute medians."
      ],
      "metadata": {
        "id": "2R1eqgXYy7cS"
      }
    },
    {
      "cell_type": "code",
      "source": [
        "# replace na with medians\n",
        "after_null = after_null50.fillna(after_null50.mean())"
      ],
      "metadata": {
        "id": "kL_RTvs0zIAv",
        "colab": {
          "base_uri": "https://localhost:8080/"
        },
        "outputId": "58585686-54ba-4233-e470-a38b2757ece0"
      },
      "execution_count": null,
      "outputs": [
        {
          "output_type": "stream",
          "name": "stderr",
          "text": [
            "/usr/local/lib/python3.7/dist-packages/ipykernel_launcher.py:2: FutureWarning: Dropping of nuisance columns in DataFrame reductions (with 'numeric_only=None') is deprecated; in a future version this will raise TypeError.  Select only valid columns before calling the reduction.\n",
            "  \n"
          ]
        }
      ]
    },
    {
      "cell_type": "markdown",
      "source": [
        "#### Tier 4 - 10%"
      ],
      "metadata": {
        "id": "lTYSFcKJ16HE"
      }
    },
    {
      "cell_type": "markdown",
      "source": [
        "If we have any tier 1 featues which have less than 10% missing values, we could utilize knn data mining to impute missing values. However, we don't have this kind of case here."
      ],
      "metadata": {
        "id": "W546MJLZ1Xoc"
      }
    },
    {
      "cell_type": "markdown",
      "source": [
        "#### Flagging columns with imputations\n"
      ],
      "metadata": {
        "id": "L-cvk2NO184r"
      }
    },
    {
      "cell_type": "markdown",
      "source": [
        "If we impute missing values, then include a boolean column/feature that flags whether there was originally a NULL there.\n"
      ],
      "metadata": {
        "id": "fpu36-wM2T8A"
      }
    },
    {
      "cell_type": "code",
      "source": [
        "for col in columns_with_na:\n",
        "  after_null[col + '_flag'] = selected_data[col].isna()"
      ],
      "metadata": {
        "id": "ZjOx1DoTz_Wi"
      },
      "execution_count": null,
      "outputs": []
    },
    {
      "cell_type": "markdown",
      "source": [
        "## Exploratory Data Analysis"
      ],
      "metadata": {
        "id": "oaeeGGhE3zsf"
      }
    },
    {
      "cell_type": "markdown",
      "source": [
        "### Correlation Heatmap\n"
      ],
      "metadata": {
        "id": "95YbWQLQ4UvS"
      }
    },
    {
      "cell_type": "code",
      "source": [
        "# scaling data before computing correlation matrix\n",
        "from sklearn.preprocessing import MinMaxScaler\n",
        "min_max_scaler = MinMaxScaler()\n",
        "\n",
        "# copy\n",
        "after_null_scale = after_null.copy()\n",
        "\n",
        "# Select Continuous features \n",
        "from sklearn.compose import make_column_selector as selector\n",
        "num_columns_selector = selector(dtype_exclude=[object, bool])\n",
        "num_columns = num_columns_selector(after_null)\n",
        "\n",
        "# transform by scaling\n",
        "after_null_scale[num_columns] = min_max_scaler.fit_transform(after_null_scale[num_columns])\n",
        "after_null_scale"
      ],
      "metadata": {
        "id": "dGzhpvdbBYbd",
        "colab": {
          "base_uri": "https://localhost:8080/",
          "height": 488
        },
        "outputId": "d0ed1b3d-89cc-415e-ea33-f033b02a5783"
      },
      "execution_count": null,
      "outputs": [
        {
          "output_type": "execute_result",
          "data": {
            "text/plain": [
              "    state_code  latitude  longitude  labels  age_first_funding_year  \\\n",
              "0           CA  0.494494   0.367152     1.0                0.365061   \n",
              "1           CA  0.342036   0.005562     1.0                0.458030   \n",
              "2           CA  0.212867   0.039515     1.0                0.325749   \n",
              "3           CA  0.344460   0.005020     1.0                0.393572   \n",
              "4           CA  0.358127   0.002398     0.0                0.292368   \n",
              "..         ...       ...        ...     ...                     ...   \n",
              "918         CA  0.356975   0.002702     1.0                0.309102   \n",
              "919         MA  0.498839   0.366166     0.0                0.526742   \n",
              "920         CA  0.347079   0.005263     0.0                0.566939   \n",
              "921         CA  0.351500   0.003328     1.0                0.316894   \n",
              "922         CA  0.346439   0.005615     1.0                0.393216   \n",
              "\n",
              "     age_last_funding_year  age_first_milestone_year  age_last_milestone_year  \\\n",
              "0                 0.389409                  0.484841                 0.432611   \n",
              "1                 0.615461                  0.544988                 0.442121   \n",
              "2                 0.325749                  0.402200                 0.290656   \n",
              "3                 0.464142                  0.519179                 0.410478   \n",
              "4                 0.346291                  0.365677                 0.222272   \n",
              "..                     ...                       ...                      ...   \n",
              "918               0.309102                  0.379636                 0.363880   \n",
              "919               0.590579                  0.519179                 0.410478   \n",
              "920               0.566939                  0.596462                 0.505232   \n",
              "921               0.383922                  0.384220                 0.342094   \n",
              "922               0.393216                  0.467705                 0.347367   \n",
              "\n",
              "     relationships  funding_rounds  ...  has_angel  has_roundA  has_roundB  \\\n",
              "0         0.047619        0.222222  ...        1.0         0.0         0.0   \n",
              "1         0.142857        0.333333  ...        0.0         0.0         1.0   \n",
              "2         0.079365        0.000000  ...        0.0         1.0         0.0   \n",
              "3         0.079365        0.222222  ...        0.0         0.0         1.0   \n",
              "4         0.031746        0.111111  ...        1.0         0.0         0.0   \n",
              "..             ...             ...  ...        ...         ...         ...   \n",
              "918       0.142857        0.000000  ...        0.0         1.0         0.0   \n",
              "919       0.015873        0.222222  ...        0.0         0.0         1.0   \n",
              "920       0.079365        0.000000  ...        0.0         0.0         0.0   \n",
              "921       0.190476        0.111111  ...        0.0         1.0         1.0   \n",
              "922       0.063492        0.000000  ...        0.0         0.0         1.0   \n",
              "\n",
              "     has_roundC  has_roundD  avg_participants  is_top500    status  \\\n",
              "0           0.0         0.0          0.000000        0.0  acquired   \n",
              "1           1.0         1.0          0.250000        1.0  acquired   \n",
              "2           0.0         0.0          0.200000        1.0  acquired   \n",
              "3           1.0         1.0          0.155553        1.0  acquired   \n",
              "4           0.0         0.0          0.000000        1.0    closed   \n",
              "..          ...         ...               ...        ...       ...   \n",
              "918         0.0         0.0          0.333333        1.0  acquired   \n",
              "919         0.0         0.0          0.111113        1.0    closed   \n",
              "920         0.0         1.0          0.466667        1.0    closed   \n",
              "921         0.0         0.0          0.000000        1.0  acquired   \n",
              "922         0.0         0.0          0.133333        1.0  acquired   \n",
              "\n",
              "     age_first_milestone_year_flag  age_last_milestone_year_flag  \n",
              "0                            False                         False  \n",
              "1                            False                         False  \n",
              "2                            False                         False  \n",
              "3                            False                         False  \n",
              "4                            False                         False  \n",
              "..                             ...                           ...  \n",
              "918                          False                         False  \n",
              "919                          False                         False  \n",
              "920                          False                         False  \n",
              "921                          False                         False  \n",
              "922                          False                         False  \n",
              "\n",
              "[923 rows x 39 columns]"
            ],
            "text/html": [
              "\n",
              "  <div id=\"df-5f841103-c9cf-41b4-8aa8-b514550e6b05\">\n",
              "    <div class=\"colab-df-container\">\n",
              "      <div>\n",
              "<style scoped>\n",
              "    .dataframe tbody tr th:only-of-type {\n",
              "        vertical-align: middle;\n",
              "    }\n",
              "\n",
              "    .dataframe tbody tr th {\n",
              "        vertical-align: top;\n",
              "    }\n",
              "\n",
              "    .dataframe thead th {\n",
              "        text-align: right;\n",
              "    }\n",
              "</style>\n",
              "<table border=\"1\" class=\"dataframe\">\n",
              "  <thead>\n",
              "    <tr style=\"text-align: right;\">\n",
              "      <th></th>\n",
              "      <th>state_code</th>\n",
              "      <th>latitude</th>\n",
              "      <th>longitude</th>\n",
              "      <th>labels</th>\n",
              "      <th>age_first_funding_year</th>\n",
              "      <th>age_last_funding_year</th>\n",
              "      <th>age_first_milestone_year</th>\n",
              "      <th>age_last_milestone_year</th>\n",
              "      <th>relationships</th>\n",
              "      <th>funding_rounds</th>\n",
              "      <th>...</th>\n",
              "      <th>has_angel</th>\n",
              "      <th>has_roundA</th>\n",
              "      <th>has_roundB</th>\n",
              "      <th>has_roundC</th>\n",
              "      <th>has_roundD</th>\n",
              "      <th>avg_participants</th>\n",
              "      <th>is_top500</th>\n",
              "      <th>status</th>\n",
              "      <th>age_first_milestone_year_flag</th>\n",
              "      <th>age_last_milestone_year_flag</th>\n",
              "    </tr>\n",
              "  </thead>\n",
              "  <tbody>\n",
              "    <tr>\n",
              "      <th>0</th>\n",
              "      <td>CA</td>\n",
              "      <td>0.494494</td>\n",
              "      <td>0.367152</td>\n",
              "      <td>1.0</td>\n",
              "      <td>0.365061</td>\n",
              "      <td>0.389409</td>\n",
              "      <td>0.484841</td>\n",
              "      <td>0.432611</td>\n",
              "      <td>0.047619</td>\n",
              "      <td>0.222222</td>\n",
              "      <td>...</td>\n",
              "      <td>1.0</td>\n",
              "      <td>0.0</td>\n",
              "      <td>0.0</td>\n",
              "      <td>0.0</td>\n",
              "      <td>0.0</td>\n",
              "      <td>0.000000</td>\n",
              "      <td>0.0</td>\n",
              "      <td>acquired</td>\n",
              "      <td>False</td>\n",
              "      <td>False</td>\n",
              "    </tr>\n",
              "    <tr>\n",
              "      <th>1</th>\n",
              "      <td>CA</td>\n",
              "      <td>0.342036</td>\n",
              "      <td>0.005562</td>\n",
              "      <td>1.0</td>\n",
              "      <td>0.458030</td>\n",
              "      <td>0.615461</td>\n",
              "      <td>0.544988</td>\n",
              "      <td>0.442121</td>\n",
              "      <td>0.142857</td>\n",
              "      <td>0.333333</td>\n",
              "      <td>...</td>\n",
              "      <td>0.0</td>\n",
              "      <td>0.0</td>\n",
              "      <td>1.0</td>\n",
              "      <td>1.0</td>\n",
              "      <td>1.0</td>\n",
              "      <td>0.250000</td>\n",
              "      <td>1.0</td>\n",
              "      <td>acquired</td>\n",
              "      <td>False</td>\n",
              "      <td>False</td>\n",
              "    </tr>\n",
              "    <tr>\n",
              "      <th>2</th>\n",
              "      <td>CA</td>\n",
              "      <td>0.212867</td>\n",
              "      <td>0.039515</td>\n",
              "      <td>1.0</td>\n",
              "      <td>0.325749</td>\n",
              "      <td>0.325749</td>\n",
              "      <td>0.402200</td>\n",
              "      <td>0.290656</td>\n",
              "      <td>0.079365</td>\n",
              "      <td>0.000000</td>\n",
              "      <td>...</td>\n",
              "      <td>0.0</td>\n",
              "      <td>1.0</td>\n",
              "      <td>0.0</td>\n",
              "      <td>0.0</td>\n",
              "      <td>0.0</td>\n",
              "      <td>0.200000</td>\n",
              "      <td>1.0</td>\n",
              "      <td>acquired</td>\n",
              "      <td>False</td>\n",
              "      <td>False</td>\n",
              "    </tr>\n",
              "    <tr>\n",
              "      <th>3</th>\n",
              "      <td>CA</td>\n",
              "      <td>0.344460</td>\n",
              "      <td>0.005020</td>\n",
              "      <td>1.0</td>\n",
              "      <td>0.393572</td>\n",
              "      <td>0.464142</td>\n",
              "      <td>0.519179</td>\n",
              "      <td>0.410478</td>\n",
              "      <td>0.079365</td>\n",
              "      <td>0.222222</td>\n",
              "      <td>...</td>\n",
              "      <td>0.0</td>\n",
              "      <td>0.0</td>\n",
              "      <td>1.0</td>\n",
              "      <td>1.0</td>\n",
              "      <td>1.0</td>\n",
              "      <td>0.155553</td>\n",
              "      <td>1.0</td>\n",
              "      <td>acquired</td>\n",
              "      <td>False</td>\n",
              "      <td>False</td>\n",
              "    </tr>\n",
              "    <tr>\n",
              "      <th>4</th>\n",
              "      <td>CA</td>\n",
              "      <td>0.358127</td>\n",
              "      <td>0.002398</td>\n",
              "      <td>0.0</td>\n",
              "      <td>0.292368</td>\n",
              "      <td>0.346291</td>\n",
              "      <td>0.365677</td>\n",
              "      <td>0.222272</td>\n",
              "      <td>0.031746</td>\n",
              "      <td>0.111111</td>\n",
              "      <td>...</td>\n",
              "      <td>1.0</td>\n",
              "      <td>0.0</td>\n",
              "      <td>0.0</td>\n",
              "      <td>0.0</td>\n",
              "      <td>0.0</td>\n",
              "      <td>0.000000</td>\n",
              "      <td>1.0</td>\n",
              "      <td>closed</td>\n",
              "      <td>False</td>\n",
              "      <td>False</td>\n",
              "    </tr>\n",
              "    <tr>\n",
              "      <th>...</th>\n",
              "      <td>...</td>\n",
              "      <td>...</td>\n",
              "      <td>...</td>\n",
              "      <td>...</td>\n",
              "      <td>...</td>\n",
              "      <td>...</td>\n",
              "      <td>...</td>\n",
              "      <td>...</td>\n",
              "      <td>...</td>\n",
              "      <td>...</td>\n",
              "      <td>...</td>\n",
              "      <td>...</td>\n",
              "      <td>...</td>\n",
              "      <td>...</td>\n",
              "      <td>...</td>\n",
              "      <td>...</td>\n",
              "      <td>...</td>\n",
              "      <td>...</td>\n",
              "      <td>...</td>\n",
              "      <td>...</td>\n",
              "      <td>...</td>\n",
              "    </tr>\n",
              "    <tr>\n",
              "      <th>918</th>\n",
              "      <td>CA</td>\n",
              "      <td>0.356975</td>\n",
              "      <td>0.002702</td>\n",
              "      <td>1.0</td>\n",
              "      <td>0.309102</td>\n",
              "      <td>0.309102</td>\n",
              "      <td>0.379636</td>\n",
              "      <td>0.363880</td>\n",
              "      <td>0.142857</td>\n",
              "      <td>0.000000</td>\n",
              "      <td>...</td>\n",
              "      <td>0.0</td>\n",
              "      <td>1.0</td>\n",
              "      <td>0.0</td>\n",
              "      <td>0.0</td>\n",
              "      <td>0.0</td>\n",
              "      <td>0.333333</td>\n",
              "      <td>1.0</td>\n",
              "      <td>acquired</td>\n",
              "      <td>False</td>\n",
              "      <td>False</td>\n",
              "    </tr>\n",
              "    <tr>\n",
              "      <th>919</th>\n",
              "      <td>MA</td>\n",
              "      <td>0.498839</td>\n",
              "      <td>0.366166</td>\n",
              "      <td>0.0</td>\n",
              "      <td>0.526742</td>\n",
              "      <td>0.590579</td>\n",
              "      <td>0.519179</td>\n",
              "      <td>0.410478</td>\n",
              "      <td>0.015873</td>\n",
              "      <td>0.222222</td>\n",
              "      <td>...</td>\n",
              "      <td>0.0</td>\n",
              "      <td>0.0</td>\n",
              "      <td>1.0</td>\n",
              "      <td>0.0</td>\n",
              "      <td>0.0</td>\n",
              "      <td>0.111113</td>\n",
              "      <td>1.0</td>\n",
              "      <td>closed</td>\n",
              "      <td>False</td>\n",
              "      <td>False</td>\n",
              "    </tr>\n",
              "    <tr>\n",
              "      <th>920</th>\n",
              "      <td>CA</td>\n",
              "      <td>0.347079</td>\n",
              "      <td>0.005263</td>\n",
              "      <td>0.0</td>\n",
              "      <td>0.566939</td>\n",
              "      <td>0.566939</td>\n",
              "      <td>0.596462</td>\n",
              "      <td>0.505232</td>\n",
              "      <td>0.079365</td>\n",
              "      <td>0.000000</td>\n",
              "      <td>...</td>\n",
              "      <td>0.0</td>\n",
              "      <td>0.0</td>\n",
              "      <td>0.0</td>\n",
              "      <td>0.0</td>\n",
              "      <td>1.0</td>\n",
              "      <td>0.466667</td>\n",
              "      <td>1.0</td>\n",
              "      <td>closed</td>\n",
              "      <td>False</td>\n",
              "      <td>False</td>\n",
              "    </tr>\n",
              "    <tr>\n",
              "      <th>921</th>\n",
              "      <td>CA</td>\n",
              "      <td>0.351500</td>\n",
              "      <td>0.003328</td>\n",
              "      <td>1.0</td>\n",
              "      <td>0.316894</td>\n",
              "      <td>0.383922</td>\n",
              "      <td>0.384220</td>\n",
              "      <td>0.342094</td>\n",
              "      <td>0.190476</td>\n",
              "      <td>0.111111</td>\n",
              "      <td>...</td>\n",
              "      <td>0.0</td>\n",
              "      <td>1.0</td>\n",
              "      <td>1.0</td>\n",
              "      <td>0.0</td>\n",
              "      <td>0.0</td>\n",
              "      <td>0.000000</td>\n",
              "      <td>1.0</td>\n",
              "      <td>acquired</td>\n",
              "      <td>False</td>\n",
              "      <td>False</td>\n",
              "    </tr>\n",
              "    <tr>\n",
              "      <th>922</th>\n",
              "      <td>CA</td>\n",
              "      <td>0.346439</td>\n",
              "      <td>0.005615</td>\n",
              "      <td>1.0</td>\n",
              "      <td>0.393216</td>\n",
              "      <td>0.393216</td>\n",
              "      <td>0.467705</td>\n",
              "      <td>0.347367</td>\n",
              "      <td>0.063492</td>\n",
              "      <td>0.000000</td>\n",
              "      <td>...</td>\n",
              "      <td>0.0</td>\n",
              "      <td>0.0</td>\n",
              "      <td>1.0</td>\n",
              "      <td>0.0</td>\n",
              "      <td>0.0</td>\n",
              "      <td>0.133333</td>\n",
              "      <td>1.0</td>\n",
              "      <td>acquired</td>\n",
              "      <td>False</td>\n",
              "      <td>False</td>\n",
              "    </tr>\n",
              "  </tbody>\n",
              "</table>\n",
              "<p>923 rows × 39 columns</p>\n",
              "</div>\n",
              "      <button class=\"colab-df-convert\" onclick=\"convertToInteractive('df-5f841103-c9cf-41b4-8aa8-b514550e6b05')\"\n",
              "              title=\"Convert this dataframe to an interactive table.\"\n",
              "              style=\"display:none;\">\n",
              "        \n",
              "  <svg xmlns=\"http://www.w3.org/2000/svg\" height=\"24px\"viewBox=\"0 0 24 24\"\n",
              "       width=\"24px\">\n",
              "    <path d=\"M0 0h24v24H0V0z\" fill=\"none\"/>\n",
              "    <path d=\"M18.56 5.44l.94 2.06.94-2.06 2.06-.94-2.06-.94-.94-2.06-.94 2.06-2.06.94zm-11 1L8.5 8.5l.94-2.06 2.06-.94-2.06-.94L8.5 2.5l-.94 2.06-2.06.94zm10 10l.94 2.06.94-2.06 2.06-.94-2.06-.94-.94-2.06-.94 2.06-2.06.94z\"/><path d=\"M17.41 7.96l-1.37-1.37c-.4-.4-.92-.59-1.43-.59-.52 0-1.04.2-1.43.59L10.3 9.45l-7.72 7.72c-.78.78-.78 2.05 0 2.83L4 21.41c.39.39.9.59 1.41.59.51 0 1.02-.2 1.41-.59l7.78-7.78 2.81-2.81c.8-.78.8-2.07 0-2.86zM5.41 20L4 18.59l7.72-7.72 1.47 1.35L5.41 20z\"/>\n",
              "  </svg>\n",
              "      </button>\n",
              "      \n",
              "  <style>\n",
              "    .colab-df-container {\n",
              "      display:flex;\n",
              "      flex-wrap:wrap;\n",
              "      gap: 12px;\n",
              "    }\n",
              "\n",
              "    .colab-df-convert {\n",
              "      background-color: #E8F0FE;\n",
              "      border: none;\n",
              "      border-radius: 50%;\n",
              "      cursor: pointer;\n",
              "      display: none;\n",
              "      fill: #1967D2;\n",
              "      height: 32px;\n",
              "      padding: 0 0 0 0;\n",
              "      width: 32px;\n",
              "    }\n",
              "\n",
              "    .colab-df-convert:hover {\n",
              "      background-color: #E2EBFA;\n",
              "      box-shadow: 0px 1px 2px rgba(60, 64, 67, 0.3), 0px 1px 3px 1px rgba(60, 64, 67, 0.15);\n",
              "      fill: #174EA6;\n",
              "    }\n",
              "\n",
              "    [theme=dark] .colab-df-convert {\n",
              "      background-color: #3B4455;\n",
              "      fill: #D2E3FC;\n",
              "    }\n",
              "\n",
              "    [theme=dark] .colab-df-convert:hover {\n",
              "      background-color: #434B5C;\n",
              "      box-shadow: 0px 1px 3px 1px rgba(0, 0, 0, 0.15);\n",
              "      filter: drop-shadow(0px 1px 2px rgba(0, 0, 0, 0.3));\n",
              "      fill: #FFFFFF;\n",
              "    }\n",
              "  </style>\n",
              "\n",
              "      <script>\n",
              "        const buttonEl =\n",
              "          document.querySelector('#df-5f841103-c9cf-41b4-8aa8-b514550e6b05 button.colab-df-convert');\n",
              "        buttonEl.style.display =\n",
              "          google.colab.kernel.accessAllowed ? 'block' : 'none';\n",
              "\n",
              "        async function convertToInteractive(key) {\n",
              "          const element = document.querySelector('#df-5f841103-c9cf-41b4-8aa8-b514550e6b05');\n",
              "          const dataTable =\n",
              "            await google.colab.kernel.invokeFunction('convertToInteractive',\n",
              "                                                     [key], {});\n",
              "          if (!dataTable) return;\n",
              "\n",
              "          const docLinkHtml = 'Like what you see? Visit the ' +\n",
              "            '<a target=\"_blank\" href=https://colab.research.google.com/notebooks/data_table.ipynb>data table notebook</a>'\n",
              "            + ' to learn more about interactive tables.';\n",
              "          element.innerHTML = '';\n",
              "          dataTable['output_type'] = 'display_data';\n",
              "          await google.colab.output.renderOutput(dataTable, element);\n",
              "          const docLink = document.createElement('div');\n",
              "          docLink.innerHTML = docLinkHtml;\n",
              "          element.appendChild(docLink);\n",
              "        }\n",
              "      </script>\n",
              "    </div>\n",
              "  </div>\n",
              "  "
            ]
          },
          "metadata": {},
          "execution_count": 332
        }
      ]
    },
    {
      "cell_type": "code",
      "source": [
        "sns.set_theme(style=\"white\")\n",
        "\n",
        "# Compute the correlation matrix\n",
        "corr = after_null_scale.corr()\n",
        "\n",
        "# Generate a mask for the upper triangle\n",
        "mask = np.triu(np.ones_like(corr, dtype=bool))\n",
        "\n",
        "# Set up the matplotlib figure\n",
        "f, ax = plt.subplots(figsize=(11, 9))\n",
        "\n",
        "# Generate a custom diverging colormap\n",
        "cmap = sns.diverging_palette(230, 20, as_cmap=True)\n",
        "\n",
        "# Draw the heatmap with the mask and correct aspect ratio\n",
        "sns.heatmap(corr, mask=mask, cmap=cmap, vmax=.3, center=0,\n",
        "            square=True, linewidths=.5, cbar_kws={\"shrink\": .5})\n",
        "\n"
      ],
      "metadata": {
        "id": "-NvQxmF23yym",
        "colab": {
          "base_uri": "https://localhost:8080/",
          "height": 712
        },
        "outputId": "f54a8cef-541b-40dc-96a1-0a3d8560b592"
      },
      "execution_count": null,
      "outputs": [
        {
          "output_type": "execute_result",
          "data": {
            "text/plain": [
              "<matplotlib.axes._subplots.AxesSubplot at 0x7f63e4bfec50>"
            ]
          },
          "metadata": {},
          "execution_count": 333
        },
        {
          "output_type": "display_data",
          "data": {
            "text/plain": [
              "<Figure size 792x648 with 2 Axes>"
            ],
            "image/png": "[encoded data removed]"
          },
          "metadata": {}
        }
      ]
    },
    {
      "cell_type": "markdown",
      "source": [
        "Create another two dataset variants. One dropped high-correlated features, another one would be transformed by PCA."
      ],
      "metadata": {
        "id": "08sn-AEs45W5"
      }
    },
    {
      "cell_type": "markdown",
      "source": [
        "## Preprocessing for Models"
      ],
      "metadata": {
        "id": "qMQ3J29b5V7m"
      }
    },
    {
      "cell_type": "markdown",
      "source": [
        "### Encoding Categorical Features"
      ],
      "metadata": {
        "id": "QoN5JHvE5c-d"
      }
    },
    {
      "cell_type": "code",
      "source": [
        "# drop status and labels column since the target is age_last_funding_year  \n",
        "after_null.drop(columns=['status', 'labels'], inplace=True)"
      ],
      "metadata": {
        "id": "PtiBMkmR5ZrQ"
      },
      "execution_count": null,
      "outputs": []
    },
    {
      "cell_type": "code",
      "source": [
        "# find columns need to transform\n",
        "data_type = [col for col in after_null if col.startswith('is')] + [col for col in after_null if col.startswith('has')]\n",
        "\n",
        "# transform these columns from int dtype into object dtype\n",
        "after_null[data_type] = after_null[data_type].astype(str)\n",
        "after_null['age_first_milestone_year_flag'] = after_null['age_first_milestone_year_flag'].astype(str)\n",
        "after_null['age_last_milestone_year_flag'] = after_null['age_last_milestone_year_flag'].astype(str)\n"
      ],
      "metadata": {
        "id": "8gcjgugp8K3v"
      },
      "execution_count": null,
      "outputs": []
    },
    {
      "cell_type": "code",
      "source": [
        "# encoding label\n",
        "#from sklearn.preprocessing import LabelEncoder\n",
        "#label_encoder = LabelEncoder()\n",
        "#label_encoded = label_encoder.fit_transform(after_null['labels'])\n",
        "\n",
        "# Select features based on their data type\n",
        "from sklearn.compose import make_column_selector as selector\n",
        "categorical_columns_selector = selector(dtype_include=object)\n",
        "categorical_columns = categorical_columns_selector(after_null)\n",
        "\n",
        "# encoding nominal categorical predictors\n",
        "from sklearn.preprocessing import OneHotEncoder\n",
        "onehot_encoder = OneHotEncoder(sparse=False)\n",
        "categorical_encoded = onehot_encoder.fit_transform(after_null[categorical_columns])"
      ],
      "metadata": {
        "id": "6jIWhldM6rv9"
      },
      "execution_count": null,
      "outputs": []
    },
    {
      "cell_type": "code",
      "source": [
        "from numpy.ma.extras import column_stack\n",
        "\n",
        "# Creating this DataFrame for encoded categorial features\n",
        "cat_features = pd.DataFrame(categorical_encoded, columns=onehot_encoder.get_feature_names(categorical_columns))"
      ],
      "metadata": {
        "colab": {
          "base_uri": "https://localhost:8080/"
        },
        "id": "cBt6_BaATwxS",
        "outputId": "c3b0ab93-00ad-45f8-efa5-55d150f6ea68"
      },
      "execution_count": null,
      "outputs": [
        {
          "output_type": "stream",
          "name": "stderr",
          "text": [
            "/usr/local/lib/python3.7/dist-packages/sklearn/utils/deprecation.py:87: FutureWarning: Function get_feature_names is deprecated; get_feature_names is deprecated in 1.0 and will be removed in 1.2. Please use get_feature_names_out instead.\n",
            "  warnings.warn(msg, category=FutureWarning)\n"
          ]
        }
      ]
    },
    {
      "cell_type": "markdown",
      "source": [
        "### Scaling Continuous Features"
      ],
      "metadata": {
        "id": "O0kzFtgQnFtv"
      }
    },
    {
      "cell_type": "code",
      "source": [
        "# subtract Continuous features\n",
        "num_features_raw = after_null[[col for col in after_null.columns if col not in categorical_columns]]\n",
        "\n",
        "# standardize continuous features\n",
        "from sklearn.preprocessing import StandardScaler\n",
        "\n",
        "st_scaler = StandardScaler()\n",
        "\n",
        "num_scaled = st_scaler.fit_transform(num_features_raw)\n",
        "\n",
        "num_features = pd.DataFrame(data = num_scaled, columns = num_features_raw.columns)\n",
        "\n",
        "# combine encoded features with otehr Continuous features\n",
        "features = pd.concat([num_features, cat_features], axis=1).drop(columns = 'age_last_funding_year')\n",
        "\n",
        "# target variable as df\n",
        "target = after_null[['age_last_funding_year']]"
      ],
      "metadata": {
        "id": "U8tkZ4CunFMw"
      },
      "execution_count": null,
      "outputs": []
    },
    {
      "cell_type": "code",
      "source": [
        "features.head()"
      ],
      "metadata": {
        "colab": {
          "base_uri": "https://localhost:8080/",
          "height": 300
        },
        "id": "yn6ajWmeb4aB",
        "outputId": "b730ffae-0b42-41ce-ee88-eb8fb746b9d0"
      },
      "execution_count": null,
      "outputs": [
        {
          "output_type": "execute_result",
          "data": {
            "text/plain": [
              "   latitude  longitude  age_first_funding_year  age_first_milestone_year  \\\n",
              "0  1.027268   1.451271                0.005448                  0.593256   \n",
              "1 -0.341900  -0.823630                1.151960                  1.452719   \n",
              "2 -1.501922  -0.610018               -0.479349                 -0.587632   \n",
              "3 -0.320134  -0.827040                0.357050                  1.083926   \n",
              "4 -0.197397  -0.843535               -0.891013                 -1.109524   \n",
              "\n",
              "   age_last_milestone_year  relationships  funding_rounds  funding_total_usd  \\\n",
              "0                 0.664551      -0.648696        0.495665          -0.132140   \n",
              "1                 0.767284       0.177541        1.215002           0.077455   \n",
              "2                -0.868805      -0.373284       -0.943010          -0.120401   \n",
              "3                 0.425477      -0.373284        0.495665           0.076928   \n",
              "4                -1.607464      -0.786402       -0.223673          -0.127260   \n",
              "\n",
              "   milestones  avg_participants  ...  has_roundC_0  has_roundC_1  \\\n",
              "0    0.876138         -0.981320  ...           1.0           0.0   \n",
              "1   -0.636819          1.020191  ...           0.0           1.0   \n",
              "2    0.119660          0.619888  ...           1.0           0.0   \n",
              "3   -0.636819          0.264047  ...           0.0           1.0   \n",
              "4   -0.636819         -0.981320  ...           1.0           0.0   \n",
              "\n",
              "   has_roundD_0  has_roundD_1  is_top500_0  is_top500_1  \\\n",
              "0           1.0           0.0          1.0          0.0   \n",
              "1           0.0           1.0          0.0          1.0   \n",
              "2           1.0           0.0          0.0          1.0   \n",
              "3           0.0           1.0          0.0          1.0   \n",
              "4           1.0           0.0          0.0          1.0   \n",
              "\n",
              "   age_first_milestone_year_flag_False  age_first_milestone_year_flag_True  \\\n",
              "0                                  1.0                                 0.0   \n",
              "1                                  1.0                                 0.0   \n",
              "2                                  1.0                                 0.0   \n",
              "3                                  1.0                                 0.0   \n",
              "4                                  1.0                                 0.0   \n",
              "\n",
              "   age_last_milestone_year_flag_False  age_last_milestone_year_flag_True  \n",
              "0                                 1.0                                0.0  \n",
              "1                                 1.0                                0.0  \n",
              "2                                 1.0                                0.0  \n",
              "3                                 1.0                                0.0  \n",
              "4                                 1.0                                0.0  \n",
              "\n",
              "[5 rows x 128 columns]"
            ],
            "text/html": [
              "\n",
              "  <div id=\"df-1c2ee524-a7fc-435f-bc45-cc06b2f42b70\">\n",
              "    <div class=\"colab-df-container\">\n",
              "      <div>\n",
              "<style scoped>\n",
              "    .dataframe tbody tr th:only-of-type {\n",
              "        vertical-align: middle;\n",
              "    }\n",
              "\n",
              "    .dataframe tbody tr th {\n",
              "        vertical-align: top;\n",
              "    }\n",
              "\n",
              "    .dataframe thead th {\n",
              "        text-align: right;\n",
              "    }\n",
              "</style>\n",
              "<table border=\"1\" class=\"dataframe\">\n",
              "  <thead>\n",
              "    <tr style=\"text-align: right;\">\n",
              "      <th></th>\n",
              "      <th>latitude</th>\n",
              "      <th>longitude</th>\n",
              "      <th>age_first_funding_year</th>\n",
              "      <th>age_first_milestone_year</th>\n",
              "      <th>age_last_milestone_year</th>\n",
              "      <th>relationships</th>\n",
              "      <th>funding_rounds</th>\n",
              "      <th>funding_total_usd</th>\n",
              "      <th>milestones</th>\n",
              "      <th>avg_participants</th>\n",
              "      <th>...</th>\n",
              "      <th>has_roundC_0</th>\n",
              "      <th>has_roundC_1</th>\n",
              "      <th>has_roundD_0</th>\n",
              "      <th>has_roundD_1</th>\n",
              "      <th>is_top500_0</th>\n",
              "      <th>is_top500_1</th>\n",
              "      <th>age_first_milestone_year_flag_False</th>\n",
              "      <th>age_first_milestone_year_flag_True</th>\n",
              "      <th>age_last_milestone_year_flag_False</th>\n",
              "      <th>age_last_milestone_year_flag_True</th>\n",
              "    </tr>\n",
              "  </thead>\n",
              "  <tbody>\n",
              "    <tr>\n",
              "      <th>0</th>\n",
              "      <td>1.027268</td>\n",
              "      <td>1.451271</td>\n",
              "      <td>0.005448</td>\n",
              "      <td>0.593256</td>\n",
              "      <td>0.664551</td>\n",
              "      <td>-0.648696</td>\n",
              "      <td>0.495665</td>\n",
              "      <td>-0.132140</td>\n",
              "      <td>0.876138</td>\n",
              "      <td>-0.981320</td>\n",
              "      <td>...</td>\n",
              "      <td>1.0</td>\n",
              "      <td>0.0</td>\n",
              "      <td>1.0</td>\n",
              "      <td>0.0</td>\n",
              "      <td>1.0</td>\n",
              "      <td>0.0</td>\n",
              "      <td>1.0</td>\n",
              "      <td>0.0</td>\n",
              "      <td>1.0</td>\n",
              "      <td>0.0</td>\n",
              "    </tr>\n",
              "    <tr>\n",
              "      <th>1</th>\n",
              "      <td>-0.341900</td>\n",
              "      <td>-0.823630</td>\n",
              "      <td>1.151960</td>\n",
              "      <td>1.452719</td>\n",
              "      <td>0.767284</td>\n",
              "      <td>0.177541</td>\n",
              "      <td>1.215002</td>\n",
              "      <td>0.077455</td>\n",
              "      <td>-0.636819</td>\n",
              "      <td>1.020191</td>\n",
              "      <td>...</td>\n",
              "      <td>0.0</td>\n",
              "      <td>1.0</td>\n",
              "      <td>0.0</td>\n",
              "      <td>1.0</td>\n",
              "      <td>0.0</td>\n",
              "      <td>1.0</td>\n",
              "      <td>1.0</td>\n",
              "      <td>0.0</td>\n",
              "      <td>1.0</td>\n",
              "      <td>0.0</td>\n",
              "    </tr>\n",
              "    <tr>\n",
              "      <th>2</th>\n",
              "      <td>-1.501922</td>\n",
              "      <td>-0.610018</td>\n",
              "      <td>-0.479349</td>\n",
              "      <td>-0.587632</td>\n",
              "      <td>-0.868805</td>\n",
              "      <td>-0.373284</td>\n",
              "      <td>-0.943010</td>\n",
              "      <td>-0.120401</td>\n",
              "      <td>0.119660</td>\n",
              "      <td>0.619888</td>\n",
              "      <td>...</td>\n",
              "      <td>1.0</td>\n",
              "      <td>0.0</td>\n",
              "      <td>1.0</td>\n",
              "      <td>0.0</td>\n",
              "      <td>0.0</td>\n",
              "      <td>1.0</td>\n",
              "      <td>1.0</td>\n",
              "      <td>0.0</td>\n",
              "      <td>1.0</td>\n",
              "      <td>0.0</td>\n",
              "    </tr>\n",
              "    <tr>\n",
              "      <th>3</th>\n",
              "      <td>-0.320134</td>\n",
              "      <td>-0.827040</td>\n",
              "      <td>0.357050</td>\n",
              "      <td>1.083926</td>\n",
              "      <td>0.425477</td>\n",
              "      <td>-0.373284</td>\n",
              "      <td>0.495665</td>\n",
              "      <td>0.076928</td>\n",
              "      <td>-0.636819</td>\n",
              "      <td>0.264047</td>\n",
              "      <td>...</td>\n",
              "      <td>0.0</td>\n",
              "      <td>1.0</td>\n",
              "      <td>0.0</td>\n",
              "      <td>1.0</td>\n",
              "      <td>0.0</td>\n",
              "      <td>1.0</td>\n",
              "      <td>1.0</td>\n",
              "      <td>0.0</td>\n",
              "      <td>1.0</td>\n",
              "      <td>0.0</td>\n",
              "    </tr>\n",
              "    <tr>\n",
              "      <th>4</th>\n",
              "      <td>-0.197397</td>\n",
              "      <td>-0.843535</td>\n",
              "      <td>-0.891013</td>\n",
              "      <td>-1.109524</td>\n",
              "      <td>-1.607464</td>\n",
              "      <td>-0.786402</td>\n",
              "      <td>-0.223673</td>\n",
              "      <td>-0.127260</td>\n",
              "      <td>-0.636819</td>\n",
              "      <td>-0.981320</td>\n",
              "      <td>...</td>\n",
              "      <td>1.0</td>\n",
              "      <td>0.0</td>\n",
              "      <td>1.0</td>\n",
              "      <td>0.0</td>\n",
              "      <td>0.0</td>\n",
              "      <td>1.0</td>\n",
              "      <td>1.0</td>\n",
              "      <td>0.0</td>\n",
              "      <td>1.0</td>\n",
              "      <td>0.0</td>\n",
              "    </tr>\n",
              "  </tbody>\n",
              "</table>\n",
              "<p>5 rows × 128 columns</p>\n",
              "</div>\n",
              "      <button class=\"colab-df-convert\" onclick=\"convertToInteractive('df-1c2ee524-a7fc-435f-bc45-cc06b2f42b70')\"\n",
              "              title=\"Convert this dataframe to an interactive table.\"\n",
              "              style=\"display:none;\">\n",
              "        \n",
              "  <svg xmlns=\"http://www.w3.org/2000/svg\" height=\"24px\"viewBox=\"0 0 24 24\"\n",
              "       width=\"24px\">\n",
              "    <path d=\"M0 0h24v24H0V0z\" fill=\"none\"/>\n",
              "    <path d=\"M18.56 5.44l.94 2.06.94-2.06 2.06-.94-2.06-.94-.94-2.06-.94 2.06-2.06.94zm-11 1L8.5 8.5l.94-2.06 2.06-.94-2.06-.94L8.5 2.5l-.94 2.06-2.06.94zm10 10l.94 2.06.94-2.06 2.06-.94-2.06-.94-.94-2.06-.94 2.06-2.06.94z\"/><path d=\"M17.41 7.96l-1.37-1.37c-.4-.4-.92-.59-1.43-.59-.52 0-1.04.2-1.43.59L10.3 9.45l-7.72 7.72c-.78.78-.78 2.05 0 2.83L4 21.41c.39.39.9.59 1.41.59.51 0 1.02-.2 1.41-.59l7.78-7.78 2.81-2.81c.8-.78.8-2.07 0-2.86zM5.41 20L4 18.59l7.72-7.72 1.47 1.35L5.41 20z\"/>\n",
              "  </svg>\n",
              "      </button>\n",
              "      \n",
              "  <style>\n",
              "    .colab-df-container {\n",
              "      display:flex;\n",
              "      flex-wrap:wrap;\n",
              "      gap: 12px;\n",
              "    }\n",
              "\n",
              "    .colab-df-convert {\n",
              "      background-color: #E8F0FE;\n",
              "      border: none;\n",
              "      border-radius: 50%;\n",
              "      cursor: pointer;\n",
              "      display: none;\n",
              "      fill: #1967D2;\n",
              "      height: 32px;\n",
              "      padding: 0 0 0 0;\n",
              "      width: 32px;\n",
              "    }\n",
              "\n",
              "    .colab-df-convert:hover {\n",
              "      background-color: #E2EBFA;\n",
              "      box-shadow: 0px 1px 2px rgba(60, 64, 67, 0.3), 0px 1px 3px 1px rgba(60, 64, 67, 0.15);\n",
              "      fill: #174EA6;\n",
              "    }\n",
              "\n",
              "    [theme=dark] .colab-df-convert {\n",
              "      background-color: #3B4455;\n",
              "      fill: #D2E3FC;\n",
              "    }\n",
              "\n",
              "    [theme=dark] .colab-df-convert:hover {\n",
              "      background-color: #434B5C;\n",
              "      box-shadow: 0px 1px 3px 1px rgba(0, 0, 0, 0.15);\n",
              "      filter: drop-shadow(0px 1px 2px rgba(0, 0, 0, 0.3));\n",
              "      fill: #FFFFFF;\n",
              "    }\n",
              "  </style>\n",
              "\n",
              "      <script>\n",
              "        const buttonEl =\n",
              "          document.querySelector('#df-1c2ee524-a7fc-435f-bc45-cc06b2f42b70 button.colab-df-convert');\n",
              "        buttonEl.style.display =\n",
              "          google.colab.kernel.accessAllowed ? 'block' : 'none';\n",
              "\n",
              "        async function convertToInteractive(key) {\n",
              "          const element = document.querySelector('#df-1c2ee524-a7fc-435f-bc45-cc06b2f42b70');\n",
              "          const dataTable =\n",
              "            await google.colab.kernel.invokeFunction('convertToInteractive',\n",
              "                                                     [key], {});\n",
              "          if (!dataTable) return;\n",
              "\n",
              "          const docLinkHtml = 'Like what you see? Visit the ' +\n",
              "            '<a target=\"_blank\" href=https://colab.research.google.com/notebooks/data_table.ipynb>data table notebook</a>'\n",
              "            + ' to learn more about interactive tables.';\n",
              "          element.innerHTML = '';\n",
              "          dataTable['output_type'] = 'display_data';\n",
              "          await google.colab.output.renderOutput(dataTable, element);\n",
              "          const docLink = document.createElement('div');\n",
              "          docLink.innerHTML = docLinkHtml;\n",
              "          element.appendChild(docLink);\n",
              "        }\n",
              "      </script>\n",
              "    </div>\n",
              "  </div>\n",
              "  "
            ]
          },
          "metadata": {},
          "execution_count": 339
        }
      ]
    },
    {
      "cell_type": "markdown",
      "source": [
        "## Building Models"
      ],
      "metadata": {
        "id": "6cfSes9pDF-S"
      }
    },
    {
      "cell_type": "markdown",
      "source": [
        "### Train Test Slpit"
      ],
      "metadata": {
        "id": "sXjDz5pODJk7"
      }
    },
    {
      "cell_type": "code",
      "source": [
        "from sklearn.model_selection import train_test_split\n",
        "\n",
        "# 80% train dataset, 20% test dataset\n",
        "x_train, x_test, y_train, y_test = train_test_split(features, target, test_size=0.2, random_state=42)"
      ],
      "metadata": {
        "id": "GlowQzdADMki"
      },
      "execution_count": null,
      "outputs": []
    },
    {
      "cell_type": "markdown",
      "source": [
        "### Ordinary Least Squares Regression"
      ],
      "metadata": {
        "id": "3iLvYOXccsjE"
      }
    },
    {
      "cell_type": "code",
      "source": [
        "# define a function fit model, predict and print model performance \n",
        "def run_experiment(model):\n",
        "\n",
        "  # fit\n",
        "  model.fit(x_train, y_train)\n",
        "\n",
        "  # predict\n",
        "  y_pred = model.predict(x_test)\n",
        "\n",
        "  # evaluate\n",
        "  from sklearn.metrics import mean_absolute_error,r2_score,mean_squared_error\n",
        "  print(\"R^2 : \", r2_score(y_test, y_pred))\n",
        "  print(\"MAE :\", mean_absolute_error(y_test,y_pred))\n",
        "  print(\"RMSE:\",np.sqrt(mean_squared_error(y_test, y_pred)))"
      ],
      "metadata": {
        "id": "iqlL6cN4eDfX"
      },
      "execution_count": null,
      "outputs": []
    },
    {
      "cell_type": "markdown",
      "source": [
        "#### Model Evaluation"
      ],
      "metadata": {
        "id": "STVqwLdpvOok"
      }
    },
    {
      "cell_type": "code",
      "source": [
        "from sklearn.linear_model import LinearRegression\n",
        "# initiate model\n",
        "ols_model = LinearRegression(fit_intercept=True)\n",
        "\n",
        "# run\n",
        "run_experiment(ols_model)"
      ],
      "metadata": {
        "id": "rrPk8ogeR3Ey",
        "colab": {
          "base_uri": "https://localhost:8080/"
        },
        "outputId": "978b0679-61b0-4c7f-f147-4c16c12c7d5d"
      },
      "execution_count": null,
      "outputs": [
        {
          "output_type": "stream",
          "name": "stdout",
          "text": [
            "R^2 :  -9.437088078077026e+21\n",
            "MAE : 38193987122.613716\n",
            "RMSE: 244131839093.71573\n"
          ]
        }
      ]
    },
    {
      "cell_type": "markdown",
      "source": [
        "### Regularization - Lasso regression"
      ],
      "metadata": {
        "id": "XYQiok1Fhp3s"
      }
    },
    {
      "cell_type": "markdown",
      "source": [
        "#### Hyperparameter Tuning"
      ],
      "metadata": {
        "id": "S3mkWlsfvA68"
      }
    },
    {
      "cell_type": "code",
      "source": [
        "# set alpha parameter cases for cv \n",
        "params = {'alpha': (np.logspace(-4, 2, 100))} \n",
        "\n",
        "# initiate lasso estimator\n",
        "from sklearn.linear_model import Lasso\n",
        "lasso = Lasso(normalize=True)\n",
        "\n",
        "# set GridSearchCV\n",
        "from sklearn.model_selection import GridSearchCV\n",
        "lasso_model = GridSearchCV(lasso, params, cv = 4, scoring='r2')\n",
        "\n",
        "# fit models\n",
        "lasso_model.fit(x_train, y_train)\n"
      ],
      "metadata": {
        "id": "wchZSCnvaioS"
      },
      "execution_count": null,
      "outputs": []
    },
    {
      "cell_type": "code",
      "source": [
        "# print best alpha parameter\n",
        "print('Best alpha parameter: ', lasso_model.best_params_)\n",
        "print('Best score: ', lasso_model.best_score_)"
      ],
      "metadata": {
        "colab": {
          "base_uri": "https://localhost:8080/"
        },
        "id": "_6zOgyUYsao6",
        "outputId": "c6a6f313-811c-4a77-cc16-166902e53def"
      },
      "execution_count": null,
      "outputs": [
        {
          "output_type": "stream",
          "name": "stdout",
          "text": [
            "Best alpha parameter:  {'alpha': 0.0024770763559917113}\n",
            "Best score:  0.8710593335251431\n"
          ]
        }
      ]
    },
    {
      "cell_type": "markdown",
      "source": [
        "#### Model Evaluation"
      ],
      "metadata": {
        "id": "N2d8GxHZvKWE"
      }
    },
    {
      "cell_type": "code",
      "source": [
        "# initiate final lasso model\n",
        "final_lasso_model = Lasso(alpha = 0.0024770763559917113, normalize = True)\n",
        "\n",
        "# run\n",
        "run_experiment(final_lasso_model)"
      ],
      "metadata": {
        "id": "ieoCUhW3AsWK",
        "colab": {
          "base_uri": "https://localhost:8080/"
        },
        "outputId": "01c084ad-4256-4cc8-d59c-aa6d86ecbc63"
      },
      "execution_count": null,
      "outputs": [
        {
          "output_type": "stream",
          "name": "stdout",
          "text": [
            "R^2 :  0.8354322491307796\n",
            "MAE : 0.6649265576958248\n",
            "RMSE: 1.0194778289487378\n"
          ]
        },
        {
          "output_type": "stream",
          "name": "stderr",
          "text": [
            "/usr/local/lib/python3.7/dist-packages/sklearn/linear_model/_base.py:145: FutureWarning: 'normalize' was deprecated in version 1.0 and will be removed in 1.2.\n",
            "If you wish to scale the data, use Pipeline with a StandardScaler in a preprocessing stage. To reproduce the previous behavior:\n",
            "\n",
            "from sklearn.pipeline import make_pipeline\n",
            "\n",
            "model = make_pipeline(StandardScaler(with_mean=False), Lasso())\n",
            "\n",
            "If you wish to pass a sample_weight parameter, you need to pass it as a fit parameter to each step of the pipeline as follows:\n",
            "\n",
            "kwargs = {s[0] + '__sample_weight': sample_weight for s in model.steps}\n",
            "model.fit(X, y, **kwargs)\n",
            "\n",
            "Set parameter alpha to: original_alpha * np.sqrt(n_samples). \n",
            "  FutureWarning,\n"
          ]
        }
      ]
    },
    {
      "cell_type": "markdown",
      "source": [
        "Check effective / selected features in Lasso Regression."
      ],
      "metadata": {
        "id": "ewX-JzxM0JTY"
      }
    },
    {
      "cell_type": "code",
      "source": [
        "# Check the values of the importance of coefficients of Lasso regression.\n",
        "importance = np.abs(final_lasso_model.coef_)\n",
        "\n",
        "# filter effective features\n",
        "np.array(features.columns)[importance > 0]"
      ],
      "metadata": {
        "colab": {
          "base_uri": "https://localhost:8080/"
        },
        "id": "U7Utfvaw0BGG",
        "outputId": "3f51bc2c-3024-422a-806a-f86e094f1bd4"
      },
      "execution_count": null,
      "outputs": [
        {
          "output_type": "execute_result",
          "data": {
            "text/plain": [
              "array(['age_first_funding_year', 'age_first_milestone_year',\n",
              "       'age_last_milestone_year', 'funding_rounds', 'funding_total_usd',\n",
              "       'state_code_GA', 'state_code_MA', 'is_MA_0',\n",
              "       'category_code_biotech', 'category_code_games_video',\n",
              "       'category_code_search', 'category_code_semiconductor',\n",
              "       'category_code_transportation', 'category_code_web',\n",
              "       'is_gamesvideo_0', 'is_biotech_0', 'is_biotech_1', 'has_VC_0',\n",
              "       'has_VC_1', 'has_roundB_0', 'has_roundC_0', 'has_roundC_1',\n",
              "       'has_roundD_0', 'has_roundD_1',\n",
              "       'age_first_milestone_year_flag_False',\n",
              "       'age_first_milestone_year_flag_True',\n",
              "       'age_last_milestone_year_flag_False',\n",
              "       'age_last_milestone_year_flag_True'], dtype=object)"
            ]
          },
          "metadata": {},
          "execution_count": 359
        }
      ]
    },
    {
      "cell_type": "markdown",
      "source": [
        "### Visualize Learning Curve"
      ],
      "metadata": {
        "id": "lkfN4M1twLTs"
      }
    },
    {
      "cell_type": "markdown",
      "source": [
        "Plot training sample size against training scores (one curve) and validation scores to visualize the degree of overfit (gap between curves diverges) or underfit\n",
        "(curves converge but at a low accuracy).\n"
      ],
      "metadata": {
        "id": "KQHsbx2p5wKd"
      }
    },
    {
      "cell_type": "code",
      "source": [
        "train_sizes = [1, 103, 205, 308, 410, 513, 615]\n",
        "\n",
        "from sklearn.model_selection import learning_curve\n",
        "train_sizes, train_scores, validation_scores = learning_curve(estimator = final_lasso_model, \n",
        "                                                              X = features, \n",
        "                                                              y = target,\n",
        "                                                              cv = 3,\n",
        "                                                              scoring = 'neg_mean_squared_error',\n",
        "                                                              train_sizes = train_sizes)"
      ],
      "metadata": {
        "id": "voiGljpWwbJW"
      },
      "execution_count": null,
      "outputs": []
    },
    {
      "cell_type": "code",
      "source": [
        "print('Training scores:\\n\\n', train_scores)\n",
        "print('\\n', '-' * 70) # separator to make the output easy to read\n",
        "print('\\nValidation scores:\\n\\n', validation_scores)"
      ],
      "metadata": {
        "id": "CJzpaUmm2j08"
      },
      "execution_count": null,
      "outputs": []
    },
    {
      "cell_type": "code",
      "source": [
        "train_scores_mean = -train_scores.mean(axis = 1)\n",
        "validation_scores_mean = -validation_scores.mean(axis = 1)\n",
        "\n",
        "plt.style.use('seaborn')\n",
        "plt.plot(train_sizes, train_scores_mean, label = 'Training error')\n",
        "plt.plot(train_sizes, validation_scores_mean, label = 'Validation error')\n",
        "plt.ylabel('MSE', fontsize = 14)\n",
        "plt.xlabel('Training set size', fontsize = 14)\n",
        "plt.title('Learning curves for a linear regression model', fontsize = 18, y = 1.03)\n",
        "plt.legend()\n",
        "plt.ylim(0,40)"
      ],
      "metadata": {
        "colab": {
          "base_uri": "https://localhost:8080/",
          "height": 411
        },
        "id": "KWh8c23z2ppq",
        "outputId": "9e8a053f-a2ad-4c4d-f1b4-c7517373e6cb"
      },
      "execution_count": null,
      "outputs": [
        {
          "output_type": "execute_result",
          "data": {
            "text/plain": [
              "(0.0, 40.0)"
            ]
          },
          "metadata": {},
          "execution_count": 393
        },
        {
          "output_type": "display_data",
          "data": {
            "text/plain": [
              "<Figure size 576x396 with 1 Axes>"
            ],
            "image/png": "[encoded data removed]"
          },
          "metadata": {}
        }
      ]
    },
    {
      "cell_type": "markdown",
      "source": [
        "As the chart shows, there's no overfit nor underfit in our model."
      ],
      "metadata": {
        "id": "Sh4ZMP6y74QO"
      }
    }
  ]
}